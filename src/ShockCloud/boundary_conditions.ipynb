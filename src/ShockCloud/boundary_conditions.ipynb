{
	"cells": [
  {
   "cell_type": "markdown",
   "metadata": {},
   "source": [
    "# Shock jump conditions"
   ]
  },
  {
   "cell_type": "code",
   "execution_count": 1,
   "metadata": {},
   "outputs": [],
   "source": [
    "from sympy import *\n",
    "init_printing(use_unicode=True)"
   ]
  },
  {
   "cell_type": "markdown",
   "metadata": {},
   "source": [
    "The Euler equations in 1D are:\n",
    "\n",
    "$\\partial_t \\vec{U} + \\partial_x \\vec{F}(\\vec{U}) = 0$,\n",
    "\n",
    "where $\\vec{U} = [\\rho, u, P]$.\n",
    "\n",
    "Using the weak form of the Euler equations, and assuming a steady state on the left state $U_L$ and right side $U_R$ of the shock, we can obtain a jump discontinuity solution:\n",
    "\n",
    "$u_s (\\vec{U}_L - \\vec{U}_R) = {\\vec{F}(\\vec{U}_L) - \\vec{F}(\\vec{U}_R)}$\n",
    "\n",
    "where $u_s$ is the speed that the discontinuity travels (i.e., the shock speed).\n",
    "\n",
    "*A crucial simplification is obtained by working in the shock tube frame, where (by definition) $u_R = 0$.*"
   ]
  },
  {
   "cell_type": "code",
   "execution_count": 2,
   "metadata": {},
   "outputs": [
    {
     "data": {
      "image/png": "[encoded data removed]",
      "text/latex": [
       "$\\displaystyle \\left[\\begin{matrix}0\\\\p_{R}\\\\0\\end{matrix}\\right]$"
      ],
      "text/plain": [
       "⎡ 0 ⎤\n",
       "⎢   ⎥\n",
       "⎢p_R⎥\n",
       "⎢   ⎥\n",
       "⎣ 0 ⎦"
      ]
     },
     "execution_count": 2,
     "metadata": {},
     "output_type": "execute_result"
    }
   ],
   "source": [
    "rho_R = Symbol('rho_R')\n",
    "u_R = 0\n",
    "p_R = Symbol('p_R')\n",
    "gamma = Symbol('gamma')\n",
    "e_R = p_R / (rho_R * (gamma - 1))\n",
    "E_R = rho_R * (e_R + u_R**2 / 2)\n",
    "U_R = Matrix([rho_R, rho_R*u_R, E_R])\n",
    "\n",
    "F_R = Matrix([rho_R*u_R,\n",
    "        rho_R*u_R**2 + p_R,\n",
    "        (E_R + p_R)*u_R])\n",
    "F_R"
   ]
  },
  {
   "cell_type": "code",
   "execution_count": 3,
   "metadata": {},
   "outputs": [
    {
     "data": {
      "image/png": "[encoded data removed]",
      "text/latex": [
       "$\\displaystyle \\left[\\begin{matrix}\\rho_{L} u_{L}\\\\p_{L} + \\rho_{L} u_{L}^{2}\\\\u_{L} \\left(p_{L} + \\rho_{L} \\left(\\frac{p_{L}}{\\rho_{L} \\left(\\gamma - 1\\right)} + \\frac{u_{L}^{2}}{2}\\right)\\right)\\end{matrix}\\right]$"
      ],
      "text/plain": [
       "⎡              ρ_L⋅u_L               ⎤\n",
       "⎢                                    ⎥\n",
       "⎢                        2           ⎥\n",
       "⎢           p_L + ρ_L⋅u_L            ⎥\n",
       "⎢                                    ⎥\n",
       "⎢    ⎛          ⎛                 2⎞⎞⎥\n",
       "⎢    ⎜          ⎜    p_L       u_L ⎟⎟⎥\n",
       "⎢u_L⋅⎜p_L + ρ_L⋅⎜─────────── + ────⎟⎟⎥\n",
       "⎣    ⎝          ⎝ρ_L⋅(γ - 1)    2  ⎠⎠⎦"
      ]
     },
     "execution_count": 3,
     "metadata": {},
     "output_type": "execute_result"
    }
   ],
   "source": [
    "rho_L = Symbol('rho_L')\n",
    "M = Symbol('M')\n",
    "u_L = Symbol('u_L')\n",
    "p_L = Symbol('p_L')\n",
    "e_L = p_L / (rho_L * (gamma - 1))\n",
    "E_L = rho_L * (e_L + u_L**2 / 2)\n",
    "U_L = Matrix([rho_L, rho_L*u_L, E_L])\n",
    "\n",
    "F_L = Matrix([rho_L*u_L,\n",
    "        rho_L*u_L**2 + p_L,\n",
    "        (E_L + p_L)*u_L])\n",
    "F_L"
   ]
  },
  {
   "cell_type": "markdown",
   "metadata": {},
   "source": [
    "Now, we want to obtain the left (post-shock) state $U_L$ in terms of the pre-shock state $U_R$ and the Mach number $\\mathcal{M}$, which is defined as $\\mathcal{M} = u_s / c_R$."
   ]
  },
  {
   "cell_type": "code",
   "execution_count": 4,
   "metadata": {},
   "outputs": [],
   "source": [
    "M = Symbol('M')\n",
    "c_R = sqrt(gamma * p_R / rho_R)\n",
    "u_s = M * c_R"
   ]
  },
  {
   "cell_type": "code",
   "execution_count": 5,
   "metadata": {},
   "outputs": [
    {
     "data": {
      "image/png": "[encoded data removed]",
      "text/latex": [
       "$\\displaystyle \\rho_{L} = \\frac{M \\rho_{R} \\sqrt{\\frac{\\gamma p_{R}}{\\rho_{R}}}}{M \\sqrt{\\frac{\\gamma p_{R}}{\\rho_{R}}} - u_{L}}$"
      ],
      "text/plain": [
       "                 _______ \n",
       "                ╱ γ⋅p_R  \n",
       "       M⋅ρ_R⋅  ╱  ─────  \n",
       "             ╲╱    ρ_R   \n",
       "ρ_L = ───────────────────\n",
       "            _______      \n",
       "           ╱ γ⋅p_R       \n",
       "      M⋅  ╱  ─────  - u_L\n",
       "        ╲╱    ρ_R        "
      ]
     },
     "execution_count": 5,
     "metadata": {},
     "output_type": "execute_result"
    }
   ],
   "source": [
    "rho_L_sol1 = solveset(Eq(u_s * (U_L[0] - U_R[0]), F_L[0] - F_R[0]), rho_L).args[0]\n",
    "Eq(rho_L, rho_L_sol1)"
   ]
  },
  {
   "cell_type": "code",
   "execution_count": 6,
   "metadata": {},
   "outputs": [
    {
     "data": {
      "image/png": "[encoded data removed]",
      "text/latex": [
       "$\\displaystyle \\rho_{L} = \\frac{p_{L} - p_{R}}{u_{L} \\left(M \\sqrt{\\frac{\\gamma p_{R}}{\\rho_{R}}} - u_{L}\\right)}$"
      ],
      "text/plain": [
       "              p_L - p_R        \n",
       "ρ_L = ─────────────────────────\n",
       "          ⎛      _______      ⎞\n",
       "          ⎜     ╱ γ⋅p_R       ⎟\n",
       "      u_L⋅⎜M⋅  ╱  ─────  - u_L⎟\n",
       "          ⎝  ╲╱    ρ_R        ⎠"
      ]
     },
     "execution_count": 6,
     "metadata": {},
     "output_type": "execute_result"
    }
   ],
   "source": [
    "rho_L_sol2 = solveset(Eq(u_s * (U_L[1] - U_R[1]), F_L[1] - F_R[1]), rho_L).args[0]\n",
    "Eq(rho_L, rho_L_sol2)"
   ]
  },
  {
   "cell_type": "code",
   "execution_count": 7,
   "metadata": {},
   "outputs": [
    {
     "data": {
      "image/png": "[encoded data removed]",
      "text/latex": [
       "$\\displaystyle \\rho_{L} = \\frac{2 \\left(- M p_{L} \\sqrt{\\frac{\\gamma p_{R}}{\\rho_{R}}} + M p_{R} \\sqrt{\\frac{\\gamma p_{R}}{\\rho_{R}}} + \\gamma p_{L} u_{L}\\right)}{u_{L}^{2} \\left(M \\gamma \\sqrt{\\frac{\\gamma p_{R}}{\\rho_{R}}} - M \\sqrt{\\frac{\\gamma p_{R}}{\\rho_{R}}} - \\gamma u_{L} + u_{L}\\right)}$"
      ],
      "text/plain": [
       "        ⎛            _______             _______            ⎞\n",
       "        ⎜           ╱ γ⋅p_R             ╱ γ⋅p_R             ⎟\n",
       "      2⋅⎜- M⋅p_L⋅  ╱  ─────  + M⋅p_R⋅  ╱  ─────  + γ⋅p_L⋅u_L⎟\n",
       "        ⎝        ╲╱    ρ_R           ╲╱    ρ_R              ⎠\n",
       "ρ_L = ───────────────────────────────────────────────────────\n",
       "             ⎛        _______         _______              ⎞ \n",
       "           2 ⎜       ╱ γ⋅p_R         ╱ γ⋅p_R               ⎟ \n",
       "        u_L ⋅⎜M⋅γ⋅  ╱  ─────  - M⋅  ╱  ─────  - γ⋅u_L + u_L⎟ \n",
       "             ⎝    ╲╱    ρ_R       ╲╱    ρ_R                ⎠ "
      ]
     },
     "execution_count": 7,
     "metadata": {},
     "output_type": "execute_result"
    }
   ],
   "source": [
    "rho_L_sol3 = solveset(Eq(u_s * (U_L[2] - U_R[2]), F_L[2] - F_R[2]), rho_L).args[0]\n",
    "Eq(rho_L, rho_L_sol3)"
   ]
  },
  {
   "cell_type": "code",
   "execution_count": 8,
   "metadata": {},
   "outputs": [
    {
     "data": {
      "image/png": "[encoded data removed]",
      "text/latex": [
       "$\\displaystyle u_{L} = \\frac{M \\sqrt{\\frac{\\gamma p_{R}}{\\rho_{R}}} \\left(\\rho_{L} - \\rho_{R}\\right)}{\\rho_{L}}$"
      ],
      "text/plain": [
       "            _______            \n",
       "           ╱ γ⋅p_R             \n",
       "      M⋅  ╱  ───── ⋅(ρ_L - ρ_R)\n",
       "        ╲╱    ρ_R              \n",
       "u_L = ─────────────────────────\n",
       "                 ρ_L           "
      ]
     },
     "execution_count": 8,
     "metadata": {},
     "output_type": "execute_result"
    }
   ],
   "source": [
    "u_L_sol1 = solveset(Eq(u_s * (U_L[0] - U_R[0]), F_L[0] - F_R[0]), u_L).args[0]\n",
    "Eq(u_L, u_L_sol1)"
   ]
  },
  {
   "cell_type": "code",
   "execution_count": 9,
   "metadata": {},
   "outputs": [
    {
     "data": {
      "image/png": "[encoded data removed]",
      "text/latex": [
       "$\\displaystyle u_{L} = \\frac{M \\sqrt{\\frac{\\gamma p_{R}}{\\rho_{R}}}}{2} - \\frac{\\sqrt{\\frac{\\rho_{L} \\left(M^{2} \\gamma p_{R} \\rho_{L} - 4 \\rho_{R} \\left(p_{L} - p_{R}\\right)\\right)}{\\rho_{R}}}}{2 \\rho_{L}}$"
      ],
      "text/plain": [
       "                           ________________________________________\n",
       "            _______       ╱     ⎛ 2                              ⎞ \n",
       "           ╱ γ⋅p_R       ╱  ρ_L⋅⎝M ⋅γ⋅p_R⋅ρ_L - 4⋅ρ_R⋅(p_L - p_R)⎠ \n",
       "      M⋅  ╱  ─────      ╱   ────────────────────────────────────── \n",
       "        ╲╱    ρ_R     ╲╱                     ρ_R                   \n",
       "u_L = ───────────── - ─────────────────────────────────────────────\n",
       "            2                             2⋅ρ_L                    "
      ]
     },
     "execution_count": 9,
     "metadata": {},
     "output_type": "execute_result"
    }
   ],
   "source": [
    "u_L_sol2 = solveset(Eq(u_s * (U_L[1] - U_R[1]), F_L[1] - F_R[1]), u_L).args[0]\n",
    "Eq(u_L, u_L_sol2)"
   ]
  },
  {
   "cell_type": "code",
   "execution_count": 10,
   "metadata": {},
   "outputs": [
    {
     "data": {
      "image/png": "[encoded data removed]",
      "text/latex": [
       "$\\displaystyle p_{L} = M \\rho_{L} u_{L} \\sqrt{\\frac{\\gamma p_{R}}{\\rho_{R}}} + p_{R} - \\rho_{L} u_{L}^{2}$"
      ],
      "text/plain": [
       "                    _______                 \n",
       "                   ╱ γ⋅p_R                 2\n",
       "p_L = M⋅ρ_L⋅u_L⋅  ╱  ─────  + p_R - ρ_L⋅u_L \n",
       "                ╲╱    ρ_R                   "
      ]
     },
     "execution_count": 10,
     "metadata": {},
     "output_type": "execute_result"
    }
   ],
   "source": [
    "p_L_sol1 = solveset(Eq(u_s * (U_L[1] - U_R[1]), F_L[1] - F_R[1]), p_L).args[0]\n",
    "Eq(p_L, p_L_sol1)\n"
   ]
  },
  {
   "cell_type": "code",
   "execution_count": 11,
   "metadata": {},
   "outputs": [
    {
     "data": {
      "image/png": "[encoded data removed]",
      "text/latex": [
       "$\\displaystyle p_{L} = \\frac{- M \\gamma \\rho_{L} u_{L}^{2} \\sqrt{\\frac{\\gamma p_{R}}{\\rho_{R}}} + 2 M p_{R} \\sqrt{\\frac{\\gamma p_{R}}{\\rho_{R}}} + M \\rho_{L} u_{L}^{2} \\sqrt{\\frac{\\gamma p_{R}}{\\rho_{R}}} + \\gamma \\rho_{L} u_{L}^{3} - \\rho_{L} u_{L}^{3}}{2 \\left(M \\sqrt{\\frac{\\gamma p_{R}}{\\rho_{R}}} - \\gamma u_{L}\\right)}$"
      ],
      "text/plain": [
       "                         _______               _______                  ______\n",
       "                   2    ╱ γ⋅p_R               ╱ γ⋅p_R             2    ╱ γ⋅p_R\n",
       "      - M⋅γ⋅ρ_L⋅u_L ⋅  ╱  ─────  + 2⋅M⋅p_R⋅  ╱  ─────  + M⋅ρ_L⋅u_L ⋅  ╱  ─────\n",
       "                     ╲╱    ρ_R             ╲╱    ρ_R                ╲╱    ρ_R \n",
       "p_L = ────────────────────────────────────────────────────────────────────────\n",
       "                                            ⎛      _______        ⎞           \n",
       "                                            ⎜     ╱ γ⋅p_R         ⎟           \n",
       "                                          2⋅⎜M⋅  ╱  ─────  - γ⋅u_L⎟           \n",
       "                                            ⎝  ╲╱    ρ_R          ⎠           \n",
       "\n",
       "_                        \n",
       "             3          3\n",
       "  + γ⋅ρ_L⋅u_L  - ρ_L⋅u_L \n",
       "                         \n",
       "─────────────────────────\n",
       "                         \n",
       "                         \n",
       "                         \n",
       "                         "
      ]
     },
     "execution_count": 11,
     "metadata": {},
     "output_type": "execute_result"
    }
   ],
   "source": [
    "p_L_sol2 = solveset(Eq(u_s * (U_L[2] - U_R[2]), F_L[2] - F_R[2]), p_L).args[0]\n",
    "Eq(p_L, p_L_sol2)\n"
   ]
  },
  {
   "cell_type": "code",
   "execution_count": 12,
   "metadata": {},
   "outputs": [
    {
     "data": {
      "image/png": "[encoded data removed]",
      "text/latex": [
       "$\\displaystyle u_{L} = \\frac{p_{L} - p_{R}}{M \\rho_{R} \\sqrt{\\frac{\\gamma p_{R}}{\\rho_{R}}}}$"
      ],
      "text/plain": [
       "          p_L - p_R    \n",
       "u_L = ─────────────────\n",
       "                _______\n",
       "               ╱ γ⋅p_R \n",
       "      M⋅ρ_R⋅  ╱  ───── \n",
       "            ╲╱    ρ_R  "
      ]
     },
     "execution_count": 12,
     "metadata": {},
     "output_type": "execute_result"
    }
   ],
   "source": [
    "# write u_L in terms of U_R and p_L\n",
    "u_L_sol_new1 = solveset(Eq(rho_L_sol1, rho_L_sol2), u_L).args[0].args[0]\n",
    "Eq(u_L, u_L_sol_new1)"
   ]
  },
  {
   "cell_type": "code",
   "execution_count": 13,
   "metadata": {},
   "outputs": [
    {
     "data": {
      "image/png": "[encoded data removed]",
      "text/latex": [
       "$\\displaystyle p_{L} = \\frac{M^{2} \\gamma p_{R} \\rho_{L} - M^{2} \\gamma p_{R} \\rho_{R} + p_{R} \\rho_{L}}{\\rho_{L}}$"
      ],
      "text/plain": [
       "       2              2                    \n",
       "      M ⋅γ⋅p_R⋅ρ_L - M ⋅γ⋅p_R⋅ρ_R + p_R⋅ρ_L\n",
       "p_L = ─────────────────────────────────────\n",
       "                       ρ_L                 "
      ]
     },
     "execution_count": 13,
     "metadata": {},
     "output_type": "execute_result"
    }
   ],
   "source": [
    "# write p_L in terms of U_R and rho_L\n",
    "p_L_sol_new1 = solveset(Eq(u_L_sol1, u_L_sol2), p_L).args[2].args[0]\n",
    "Eq(p_L, p_L_sol_new1)\n"
   ]
  },
  {
   "cell_type": "code",
   "execution_count": 14,
   "metadata": {},
   "outputs": [
    {
     "data": {
      "image/png": "[encoded data removed]",
      "text/latex": [
       "$\\displaystyle \\rho_{L} = \\frac{2 \\gamma p_{R} \\rho_{R}}{2 M^{2} \\gamma p_{R} - M \\gamma \\rho_{R} u_{L} \\sqrt{\\frac{\\gamma p_{R}}{\\rho_{R}}} - 3 M \\rho_{R} u_{L} \\sqrt{\\frac{\\gamma p_{R}}{\\rho_{R}}} + \\gamma \\rho_{R} u_{L}^{2} + \\rho_{R} u_{L}^{2}}$"
      ],
      "text/plain": [
       "                                           2⋅γ⋅p_R⋅ρ_R                        \n",
       "ρ_L = ────────────────────────────────────────────────────────────────────────\n",
       "                                   _______                   _______          \n",
       "         2                        ╱ γ⋅p_R                   ╱ γ⋅p_R           \n",
       "      2⋅M ⋅γ⋅p_R - M⋅γ⋅ρ_R⋅u_L⋅  ╱  ─────  - 3⋅M⋅ρ_R⋅u_L⋅  ╱  ─────  + γ⋅ρ_R⋅u\n",
       "                               ╲╱    ρ_R                 ╲╱    ρ_R            \n",
       "\n",
       "              \n",
       "──────────────\n",
       "              \n",
       "  2          2\n",
       "_L  + ρ_R⋅u_L \n",
       "              "
      ]
     },
     "execution_count": 14,
     "metadata": {},
     "output_type": "execute_result"
    }
   ],
   "source": [
    "# write rho_L in terms of U_R and u_L\n",
    "rho_L_sol_new1 = solveset(Eq(p_L_sol1, p_L_sol2), rho_L).args[0]\n",
    "Eq(rho_L, rho_L_sol_new1)"
   ]
  },
  {
   "cell_type": "markdown",
   "metadata": {},
   "source": [
    "We finally obtain:"
   ]
  },
  {
   "cell_type": "code",
   "execution_count": 15,
   "metadata": {},
   "outputs": [
    {
     "data": {
      "image/png": "[encoded data removed]",
      "text/latex": [
       "$\\displaystyle p_{L} = \\frac{p_{R} \\left(2 M^{2} \\gamma - \\gamma + 1\\right)}{\\gamma + 1}$"
      ],
      "text/plain": [
       "          ⎛   2          ⎞\n",
       "      p_R⋅⎝2⋅M ⋅γ - γ + 1⎠\n",
       "p_L = ────────────────────\n",
       "             γ + 1        "
      ]
     },
     "execution_count": 15,
     "metadata": {},
     "output_type": "execute_result"
    }
   ],
   "source": [
    "# substitute everything\n",
    "p_L_sol_final = simplify(solveset(Eq(p_L, p_L_sol_new1.subs(rho_L, rho_L_sol_new1).subs(u_L, u_L_sol_new1)), p_L).args[0])\n",
    "p_L_lambda = lambdify([M, p_R, gamma], p_L_sol_final)\n",
    "Eq(p_L, p_L_sol_final)"
   ]
  },
  {
   "cell_type": "code",
   "execution_count": 16,
   "metadata": {},
   "outputs": [
    {
     "data": {
      "image/png": "[encoded data removed]",
      "text/latex": [
       "$\\displaystyle u_{L} = \\frac{2 \\sqrt{\\frac{\\gamma p_{R}}{\\rho_{R}}} \\left(M^{2} - 1\\right)}{M \\left(\\gamma + 1\\right)}$"
      ],
      "text/plain": [
       "            _______         \n",
       "           ╱ γ⋅p_R  ⎛ 2    ⎞\n",
       "      2⋅  ╱  ───── ⋅⎝M  - 1⎠\n",
       "        ╲╱    ρ_R           \n",
       "u_L = ──────────────────────\n",
       "            M⋅(γ + 1)       "
      ]
     },
     "execution_count": 16,
     "metadata": {},
     "output_type": "execute_result"
    }
   ],
   "source": [
    "# back substitute\n",
    "u_L_sol_final = simplify(u_L_sol_new1.subs(p_L, p_L_sol_final))\n",
    "u_L_lambda = lambdify([M, rho_R, p_R, gamma], u_L_sol_final)\n",
    "Eq(u_L, u_L_sol_final)"
   ]
  },
  {
   "cell_type": "code",
   "execution_count": 17,
   "metadata": {},
   "outputs": [
    {
     "data": {
      "image/png": "[encoded data removed]",
      "text/latex": [
       "$\\displaystyle \\rho_{L} = \\frac{M^{2} \\rho_{R} \\left(\\gamma + 1\\right)}{M^{2} \\gamma - M^{2} + 2}$"
      ],
      "text/plain": [
       "       2            \n",
       "      M ⋅ρ_R⋅(γ + 1)\n",
       "ρ_L = ──────────────\n",
       "       2      2     \n",
       "      M ⋅γ - M  + 2 "
      ]
     },
     "execution_count": 17,
     "metadata": {},
     "output_type": "execute_result"
    }
   ],
   "source": [
    "# back substitute\n",
    "rho_L_sol_final = simplify(rho_L_sol_new1.subs(u_L, u_L_sol_final))\n",
    "rho_L_lambda = lambdify([M, rho_R, gamma], rho_L_sol_final)\n",
    "Eq(rho_L, rho_L_sol_final)"
   ]
  },
  {
   "cell_type": "code",
   "execution_count": 65,
   "metadata": {},
   "outputs": [
    {
     "name": "stdout",
     "output_type": "stream",
     "text": [
      "const Real x0 = std::pow(M, 2);\n",
      "const Real x1 = gamma + 1;\n",
      "const Real x2 = gamma*x0;\n",
      "const Real x3 = 1.0/x1;\n",
      "const Real x4 = std::sqrt(gamma*p_R/rho_R);\n",
      "const Real rho_L = rho_R*x0*x1/(-x0 + x2 + 2);\n",
      "const Real u_L = 2*x3*x4*(x0 - 1)/M;\n",
      "const Real P_L = p_R*x3*(-gamma + 2*x2 + 1);\n",
      "const Real v_shock = M*x4;\n"
     ]
    }
   ],
   "source": [
    "## cxxcode\n",
    "vars = ['rho_L', 'u_L', 'P_L', 'v_shock']\n",
    "exprs = [rho_L_sol_final, u_L_sol_final, p_L_sol_final, u_s]\n",
    "\n",
    "optim_exprs = cse(exprs)\n",
    "expr1 = optim_exprs[0]\n",
    "expr2 = optim_exprs[1]\n",
    "for var, expr in expr1:\n",
    "    print(\"const Real \" + cxxcode(expr, assign_to=var))\n",
    "for var, expr in zip(vars, expr2):\n",
    "    print(\"const Real \" + cxxcode(expr, assign_to=var))"
   ]
  },
  {
   "cell_type": "markdown",
   "metadata": {},
   "source": [
    "### Converting between parameterizations\n",
    "\n",
    "We want convert between (pre-shock, right-side) background density $\\rho_R$, background pressure $p_R$ and wind velocity $v_{\\text{wind}}$ and Mach number $\\mathcal{M}$.\n",
    "\n",
    "That is:\n",
    "\n",
    "$\\rho_{bg} = \\rho_{R}$,\n",
    "\n",
    "$p_{bg} = p_R$,\n",
    "\n",
    "and\n",
    "\n",
    "$v_{\\text{wind}} = u_L$."
   ]
  },
  {
   "cell_type": "code",
   "execution_count": 18,
   "metadata": {},
   "outputs": [
    {
     "data": {
      "image/png": "[encoded data removed]",
      "text/latex": [
       "$\\displaystyle \\left\\{\\frac{u_{L} \\left(\\gamma + 1\\right)}{4 \\sqrt{\\frac{\\gamma p_{R}}{\\rho_{R}}}} - \\frac{\\sqrt{\\frac{16 \\gamma p_{R}}{\\rho_{R}} + u_{L}^{2} \\left(\\gamma + 1\\right)^{2}}}{4 \\sqrt{\\frac{\\gamma p_{R}}{\\rho_{R}}}}, \\frac{u_{L} \\left(\\gamma + 1\\right)}{4 \\sqrt{\\frac{\\gamma p_{R}}{\\rho_{R}}}} + \\frac{\\sqrt{\\frac{16 \\gamma p_{R}}{\\rho_{R}} + u_{L}^{2} \\left(\\gamma + 1\\right)^{2}}}{4 \\sqrt{\\frac{\\gamma p_{R}}{\\rho_{R}}}}\\right\\} \\setminus \\left\\{0\\right\\}$"
      ],
      "text/plain": [
       "⎧                    __________________________                      _________\n",
       "⎪                   ╱ 16⋅γ⋅p_R      2        2                      ╱ 16⋅γ⋅p_R\n",
       "⎪                  ╱  ──────── + u_L ⋅(γ + 1)                      ╱  ────────\n",
       "⎪ u_L⋅(γ + 1)    ╲╱     ρ_R                       u_L⋅(γ + 1)    ╲╱     ρ_R   \n",
       "⎨───────────── - ──────────────────────────────, ───────────── + ─────────────\n",
       "⎪      _______                 _______                 _______                \n",
       "⎪     ╱ γ⋅p_R                 ╱ γ⋅p_R                 ╱ γ⋅p_R                 \n",
       "⎪4⋅  ╱  ─────            4⋅  ╱  ─────            4⋅  ╱  ─────            4⋅  ╱\n",
       "⎩  ╲╱    ρ_R               ╲╱    ρ_R               ╲╱    ρ_R               ╲╱ \n",
       "\n",
       "_________________⎫      \n",
       "      2        2 ⎪      \n",
       " + u_L ⋅(γ + 1)  ⎪      \n",
       "                 ⎪      \n",
       "─────────────────⎬ \\ {0}\n",
       " _______         ⎪      \n",
       "╱ γ⋅p_R          ⎪      \n",
       "  ─────          ⎪      \n",
       "   ρ_R           ⎭      "
      ]
     },
     "execution_count": 18,
     "metadata": {},
     "output_type": "execute_result"
    }
   ],
   "source": [
    "v_wind = Symbol(r'v_{\\text{wind}}')\n",
    "rho_bg = Symbol(r'\\rho_{bg}')\n",
    "p_bg = Symbol(r'p_{bg}')\n",
    "Mach_solve = solveset(Eq(u_L, u_L_sol_final), M)\n",
    "Mach_solve"
   ]
  },
  {
   "cell_type": "code",
   "execution_count": 19,
   "metadata": {},
   "outputs": [
    {
     "data": {
      "image/png": "[encoded data removed]",
      "text/latex": [
       "$\\displaystyle M = \\frac{v_{\\text{wind}} \\left(\\gamma + 1\\right)}{4 \\sqrt{\\frac{\\gamma p_{bg}}{\\rho_{bg}}}} + \\frac{\\sqrt{v_{\\text{wind}}^{2} \\left(\\gamma + 1\\right)^{2} + \\frac{16 \\gamma p_{bg}}{\\rho_{bg}}}}{4 \\sqrt{\\frac{\\gamma p_{bg}}{\\rho_{bg}}}}$"
      ],
      "text/plain": [
       "                                  _________________________________________\n",
       "                                 ╱                2        2   16⋅γ⋅p_{bg} \n",
       "                                ╱  v_{\\text{wind}} ⋅(γ + 1)  + ─────────── \n",
       "    v_{\\text{wind}}⋅(γ + 1)   ╲╱                                \\rho_{bg}  \n",
       "M = ─────────────────────── + ─────────────────────────────────────────────\n",
       "             ___________                          ___________              \n",
       "            ╱  γ⋅p_{bg}                          ╱  γ⋅p_{bg}               \n",
       "       4⋅  ╱  ─────────                     4⋅  ╱  ─────────               \n",
       "         ╲╱   \\rho_{bg}                       ╲╱   \\rho_{bg}               "
      ]
     },
     "execution_count": 19,
     "metadata": {},
     "output_type": "execute_result"
    }
   ],
   "source": [
    "# use positive root (only physical solution)\n",
    "Mach_sol = Mach_solve.args[0].args[1].subs(u_L, v_wind).subs(rho_R, rho_bg).subs(p_R, p_bg)\n",
    "compute_mach_number = lambdify([v_wind, rho_bg, p_bg, gamma], Mach_sol)\n",
    "Eq(M, Mach_sol)"
   ]
  },
  {
   "cell_type": "code",
   "execution_count": 28,
   "metadata": {},
   "outputs": [
    {
     "data": {
      "image/png": "[encoded data removed]",
      "text/latex": [
       "$\\displaystyle M = 1.42225795167899$"
      ],
      "text/plain": [
       "M = 1.42225795167899"
      ]
     },
     "execution_count": 28,
     "metadata": {},
     "output_type": "execute_result"
    }
   ],
   "source": [
    "# numerical example\n",
    "\n",
    "import numpy as np\n",
    "mH = 1.673533e-24 # H mass (g)\n",
    "kB = 1.380649e-16 # Boltzmann constant (cgs)\n",
    "gamma_bg = 5./3.  # assume gamma is constant\n",
    "\n",
    "v_wind_kms = 200. # km/s\n",
    "nH_bg = 1.0e-3 # cm^-3\n",
    "rho_bg = nH_bg * mH # mu = 1 for OOM estimate\n",
    "P_bg = 1.0e4 # K cm^-3\n",
    "\n",
    "# compute Mach number of shock\n",
    "Mach_shock = compute_mach_number(v_wind_kms * 1.0e5, nH_bg * mH, P_bg * kB, 5./3.)\n",
    "Eq(M, Mach_shock)"
   ]
  },
  {
   "cell_type": "code",
   "execution_count": 24,
   "metadata": {},
   "outputs": [
    {
     "data": {
      "image/png": "[encoded data removed]",
      "text/latex": [
       "$\\displaystyle u_{L} = 200.0$"
      ],
      "text/plain": [
       "u_L = 200.0"
      ]
     },
     "execution_count": 24,
     "metadata": {},
     "output_type": "execute_result"
    }
   ],
   "source": [
    "# compute post-shock fluid velocity in km/s\n",
    "Eq(u_L, u_L_lambda(Mach_shock, nH_bg * mH, P_bg * kB, 5./3.) / 1.0e5)"
   ]
  },
  {
   "cell_type": "code",
   "execution_count": 26,
   "metadata": {},
   "outputs": [
    {
     "data": {
      "image/png": "[encoded data removed]",
      "text/latex": [
       "$\\displaystyle u_{s} = 527.384360142785$"
      ],
      "text/plain": [
       "uₛ = 527.384360142785"
      ]
     },
     "execution_count": 26,
     "metadata": {},
     "output_type": "execute_result"
    }
   ],
   "source": [
    "# compute shock velocity in km/s\n",
    "u_s_lambda = lambdify([M, rho_R, p_R, gamma], u_s)\n",
    "Eq(Symbol('u_s'), u_s_lambda(Mach_shock, nH_bg * mH, P_bg * kB, 5./3.) / 1.0e5)"
   ]
  }
 ],
 "metadata": {
  "kernelspec": {
   "display_name": "Python 3",
   "language": "python",
   "name": "python3"
  },
  "language_info": {
   "codemirror_mode": {
    "name": "ipython",
    "version": 3
   },
   "file_extension": ".py",
   "mimetype": "text/x-python",
   "name": "python",
   "nbconvert_exporter": "python",
   "pygments_lexer": "ipython3",
   "version": "3.11.5"
  },
  "orig_nbformat": 4
 },
 "nbformat": 4,
 "nbformat_minor": 2
}
